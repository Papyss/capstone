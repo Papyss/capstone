{
 "cells": [
  {
   "cell_type": "markdown",
   "metadata": {},
   "source": [
    "## Package imports, global variables and functions"
   ]
  },
  {
   "cell_type": "code",
   "execution_count": 1,
   "metadata": {},
   "outputs": [],
   "source": [
    "import mysql.connector\n",
    "import json\n",
    "import csv\n",
    "import numpy as np\n",
    "import pandas as pd\n",
    "import seaborn as sns\n",
    "import matplotlib.pyplot as plt\n",
    "\n",
    "plt.rcParams['figure.figsize'] = [20, 15]\n",
    "\n",
    "host = \"localhost\"\n",
    "un = \"root\"\n",
    "pw=\"\"\n",
    "db_name = \"yelp\"\n",
    "\n",
    "def mysql_result_to_df(result, cursor):\n",
    "    field_names = [i[0] for i in mycursor.description]\n",
    "    return pd.DataFrame(myresult, columns=field_names)\n",
    "\n",
    "def df_to_csv(df, fp, ext=\".csv\", na_rep=\"\"):\n",
    "    try:\n",
    "        df.to_csv(fp + ext, encoding=\"utf-8\", header = True,\\\n",
    "            doublequote = True, sep=\",\", index=False, na_rep=na_rep)\n",
    "    except Exception as e:\n",
    "        print(\"Error: {}\".format(str(e)))\n",
    "\n",
    "fp = \"C:/Users/Tolis/Documents/Data Analytics Cource/CKME136 X10/Project/data/final/summary\""
   ]
  },
  {
   "cell_type": "markdown",
   "metadata": {},
   "source": [
    "## Connect to yelp db and load table"
   ]
  },
  {
   "cell_type": "code",
   "execution_count": 2,
   "metadata": {},
   "outputs": [],
   "source": [
    "mydb = mysql.connector.connect(\n",
    "  host=host,\n",
    "  user=un,\n",
    "  passwd=pw,\n",
    "  database=db_name\n",
    ")\n",
    "\n",
    "mycursor = mydb.cursor()\n",
    "\n",
    "mycursor.execute(\"SELECT * FROM photo\")\n",
    "\n",
    "myresult = mycursor.fetchall()\n",
    "\n",
    "photo_df = mysql_result_to_df(myresult, mycursor)\n",
    "\n",
    "#Replace blank strings or objects {} to null\n",
    "photo_df = photo_df.replace(r'^\\s*$', np.nan, regex=True)\n",
    "photo_df = photo_df.replace(r'^{}*$', np.nan, regex=True)\n",
    "\n",
    "mycursor.close()\n",
    "mydb.close()"
   ]
  },
  {
   "cell_type": "code",
   "execution_count": 3,
   "metadata": {},
   "outputs": [
    {
     "name": "stdout",
     "output_type": "stream",
     "text": [
      "                                             caption                photo_id  \\\n",
      "0                                                NaN  --3uF9gf2WttniseRLlI6g   \n",
      "1                                        Edible menu  --4v2HCSXi092RwfidxlMg   \n",
      "2                                                NaN  --5FyXiUudlvrJyUCvpZJA   \n",
      "3                                                NaN  --6kOAkha3ULjhhw32KN1w   \n",
      "4                                                NaN  --8aLa0rf2gfOjA6kCC3WQ   \n",
      "5         From website. Desperately want this...now!  --Be9sfiHG00D6eWN3jcpg   \n",
      "6                                                NaN  --CI0N0I4Wy1D-EPUJCceg   \n",
      "7  This was the winner--fish and veggies were exc...  --CTOdfZ8W5_5n8LePlIpg   \n",
      "8                                                NaN  --Dbsrqja2a_LtBreU295g   \n",
      "9                                    Crab fried rice  --DpaHUw76HtjHogXfLXnA   \n",
      "\n",
      "              business_id   label  \n",
      "0  yYHdC09T718YaF0KYb6rpg  inside  \n",
      "1  umXvdus9LbC6oxtLdXelFQ    food  \n",
      "2  aqrTv6QiU0J9Sxm_T--c5g    food  \n",
      "3  Uvl6FkQv4x2KPEGot_kTzw   drink  \n",
      "4  z4EIzLJlGd7gyje1Q_hKtw  inside  \n",
      "5  X3UyZfplYAXdSJpWPaxUIA    food  \n",
      "6  AM1zdle5q0H1ocIGt7S5Dw  inside  \n",
      "7  24UDZTAMDUaugpkchFk60w    food  \n",
      "8  Jn17OhYIWrSlXHI3bpZsLQ  inside  \n",
      "9  SJU-jRAZS0cXoBGUjX5GUg    food  \n"
     ]
    }
   ],
   "source": [
    "print(photo_df[0:10])"
   ]
  },
  {
   "cell_type": "markdown",
   "metadata": {},
   "source": [
    "## Qualitative summaries\n",
    "<p>This table does not have any numeric cols</p>"
   ]
  },
  {
   "cell_type": "code",
   "execution_count": 4,
   "metadata": {},
   "outputs": [
    {
     "name": "stdout",
     "output_type": "stream",
     "text": [
      "         caption                photo_id             business_id   label\n",
      "count      92150                  200000                  200000  200000\n",
      "unique     71512                  200000                   30488       5\n",
      "top     Interior  KxXyyXZr5wvdrCZeTt_L5Q  RESDUcs7fIiihp38-d6_6g    food\n",
      "freq         458                       1                     823  114874\n"
     ]
    }
   ],
   "source": [
    "#Description for qualitative\n",
    "df_description_cat = photo_df.describe(include=[np.object])\n",
    "print(df_description_cat)"
   ]
  },
  {
   "cell_type": "code",
   "execution_count": 5,
   "metadata": {},
   "outputs": [
    {
     "name": "stdout",
     "output_type": "stream",
     "text": [
      "(200000, 4)\n"
     ]
    }
   ],
   "source": [
    "#Row and col counts.\n",
    "row_count = photo_df.shape[0]\n",
    "col_count = photo_df.shape[1]\n",
    "print(photo_df.shape)"
   ]
  },
  {
   "cell_type": "code",
   "execution_count": 6,
   "metadata": {},
   "outputs": [
    {
     "name": "stdout",
     "output_type": "stream",
     "text": [
      "         Null Count  Null Percent\n",
      "caption      107850       0.53925\n"
     ]
    }
   ],
   "source": [
    "#Summary of NULLS\n",
    "#Will need to drop fields that have a Null Percent > .5\n",
    "#I will then fill the remaining null values with their field's average.\n",
    "null_columns=photo_df.columns[photo_df.isnull().any()]\n",
    "df_description_nulls=photo_df[null_columns].isnull().sum()\n",
    "df_description_nulls = pd.DataFrame(df_description_nulls, columns=[\"Null Count\"])\n",
    "df_description_nulls[\"Null Percent\"] = df_description_nulls[\"Null Count\"].apply(lambda x: x/row_count)\n",
    "print(df_description_nulls)"
   ]
  },
  {
   "cell_type": "markdown",
   "metadata": {},
   "source": [
    "# Plots"
   ]
  },
  {
   "cell_type": "code",
   "execution_count": 7,
   "metadata": {},
   "outputs": [],
   "source": [
    "#Clean up and save description csv.\n",
    "#The plots can be obtained via screenshot.\n",
    "\n",
    "#To make sure field names make it in output csv\n",
    "row_labels = df_description_nulls.index.values\n",
    "df_description_nulls.insert (0, \"Field\", row_labels)\n",
    "df_to_csv(df_description_nulls, fp + \"/photo_desc_nulls\", ext=\".csv\", na_rep=\"\")\n",
    "\n",
    "\n",
    "row_labels = df_description_cat.index.values\n",
    "df_description_cat.insert (0, \"Param\", row_labels)\n",
    "df_to_csv(df_description_cat, fp + \"/photo_desc_cat\", ext=\".csv\", na_rep=\"\")\n"
   ]
  },
  {
   "cell_type": "code",
   "execution_count": 8,
   "metadata": {},
   "outputs": [],
   "source": [
    "photo_df = None\n",
    "photo_df_cat = None"
   ]
  }
 ],
 "metadata": {
  "kernelspec": {
   "display_name": "Python 3",
   "language": "python",
   "name": "python3"
  },
  "language_info": {
   "codemirror_mode": {
    "name": "ipython",
    "version": 3
   },
   "file_extension": ".py",
   "mimetype": "text/x-python",
   "name": "python",
   "nbconvert_exporter": "python",
   "pygments_lexer": "ipython3",
   "version": "3.6.9"
  }
 },
 "nbformat": 4,
 "nbformat_minor": 4
}
