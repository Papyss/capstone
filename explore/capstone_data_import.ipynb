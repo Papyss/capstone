{
 "cells": [
  {
   "cell_type": "markdown",
   "metadata": {},
   "source": [
    "#package imports, global variables and functions"
   ]
  },
  {
   "cell_type": "code",
   "execution_count": null,
   "metadata": {},
   "outputs": [],
   "source": [
    "import pymysql\n",
    "import json\n",
    "import csv\n",
    "import pandas as pd\n",
    "\n",
    "def yelp_json_reformat(fp, fn):\n",
    "    \"\"\"\n",
    "    Loads the json file provided by yelp, and returns\n",
    "    a list of json documents - with each line in the\n",
    "    file being a list element.\n",
    "    \"\"\"\n",
    "    result_coll = []\n",
    "    headers = \"\"\n",
    "    raw_file =  open(fp + \"/\" + fn, \"r\", encoding=\"utf8\")\n",
    "    counter = 0\n",
    "    \n",
    "    for line in raw_file:\n",
    "        json_line = json.loads(line)\n",
    "        \n",
    "        if counter == 0:\n",
    "            headers = list(json_line.keys())\n",
    "            counter += 1\n",
    "        \n",
    "        row = list(json_line.values())\n",
    "       \n",
    "        for i,t in enumerate(row):\n",
    "            if(type(t) is dict):\n",
    "                row[i] = json.dumps(t)\n",
    "        \n",
    "        result_coll.append(tuple(row))\n",
    "    \n",
    "    raw_file.close()\n",
    "    \n",
    "    return headers, result_coll\n",
    "\n",
    "def df_to_csv(df, fp, ext=\".csv\", na_rep=\"\"):\n",
    "    try:\n",
    "        df.to_csv(fp + ext, encoding=\"utf-8\", header = True,\\\n",
    "            doublequote = True, sep=\",\", index=False, na_rep=na_rep)\n",
    "    except Exception as e:\n",
    "        print(\"Error: {}\".format(str(e)))\n",
    "    \n",
    "\n",
    "def execute_mysql(q, host, user, password):\n",
    "    \"\"\"\n",
    "    load a csv file to MySQL table according to\n",
    "    the load_sql statement.\n",
    "    \"\"\"\n",
    "    try:\n",
    "        con = pymysql.connect(host=host,\n",
    "                                user=user,\n",
    "                                password=password,\n",
    "                                autocommit=True,\n",
    "                                local_infile=1)\n",
    "        \n",
    "        print(\"Connected to DB: {}\".format(host))\n",
    "        # Create cursor and execute Load SQL\n",
    "        cursor = con.cursor()\n",
    "        cursor.execute(q)\n",
    "        print(\"Succuessfully loaded the table from csv.\")\n",
    "        \n",
    "       \n",
    "    except Exception as e:\n",
    "        print(\"Error: {}\".format(str(e)))\n",
    "    finally:\n",
    "        con.close()\n",
    "        \n",
    "def import_csv_to_sql(db_name, tbl_name, host, un, pw=\"\"):\n",
    "    tbl_name_w_db = db_name + \".\" + tbl_name\n",
    "    \n",
    "    q = \"LOAD DATA LOCAL INFILE \" + \"'\" \\\n",
    "        + fp + \"/fixed/\"+tbl_name+\".csv' INTO TABLE \" + tbl_name_w_db \\\n",
    "        + \" FIELDS TERMINATED BY ',' OPTIONALLY ENCLOSED BY '\\\"' LINES TERMINATED BY '\\r\\n' IGNORE 1 LINES;\"\n",
    "    print(q)\n",
    "    execute_mysql(q, host, un, pw)\n",
    "    \n",
    "def get_yelp_csv_count(val):\n",
    "    result = val.split(\", \")\n",
    "    return len(result)\n",
    "\n",
    "\n",
    "fp = \"C:/Users/Tolis/Documents/Data Analytics Cource/CKME136 X10/Project/data/final\"\n",
    "db_name = \"yelp\"\n",
    "host = \"localhost\"\n",
    "un = \"root\""
   ]
  },
  {
   "cell_type": "markdown",
   "metadata": {},
   "source": [
    "#export yelp data to csv for easier and faster sql import."
   ]
  },
  {
   "cell_type": "code",
   "execution_count": null,
   "metadata": {},
   "outputs": [],
   "source": [
    "tbl_name = \"business\"\n",
    "headers, data = yelp_json_reformat(fp, tbl_name+\".json\")\n",
    "\n",
    "df = pd.DataFrame(data, columns=headers)\n",
    "df[df[\"attributes\"]==\"\"] = None\n",
    "\n",
    "df_to_csv(df,fp + \"/fixed/\" + tbl_name, \".csv\", \"{}\")\n",
    "\n",
    "print(len(data),\"rows written for\", tbl_name + \".csv\")\n",
    "data = None\n",
    "df = None"
   ]
  },
  {
   "cell_type": "code",
   "execution_count": null,
   "metadata": {},
   "outputs": [],
   "source": [
    "tbl_name = \"user\"\n",
    "headers, data = yelp_json_reformat(fp, tbl_name+\".json\")\n",
    "\n",
    "df = pd.DataFrame(data, columns=headers)\n",
    "\n",
    "\"\"\"\n",
    "Calculate friend count and drop original friends column.\n",
    "Doing this because original column is a large csv like list,\n",
    "and a count is easier to import.\n",
    "\"\"\"\n",
    "\n",
    "#Calculate friend count and drop friends text field.\n",
    "#Due to large text lists causing import issues.\n",
    "df[\"CALC_friends_count\"] = df[\"friends\"].apply(get_yelp_csv_count)\n",
    "df = df.drop([\"friends\"], axis=1)\n",
    "df_to_csv(df,fp + \"/fixed/\" + tbl_name)\n",
    "\n",
    "print(len(data),\"rows written for\", tbl_name + \".csv\")\n",
    "data = None\n",
    "df = None"
   ]
  },
  {
   "cell_type": "code",
   "execution_count": null,
   "metadata": {},
   "outputs": [],
   "source": [
    "tbl_name = \"review\"\n",
    "headers, data = yelp_json_reformat(fp, tbl_name+\".json\")\n",
    "\n",
    "df = pd.DataFrame(data, columns=headers)\n",
    "\n",
    "#Dropping field due to large amounts of text causing import issues.\n",
    "df = df.drop([\"text\"], axis=1)\n",
    "\n",
    "#Using date, create a year column to filter by it.\n",
    "df[\"date\"] = pd.to_datetime(df[\"date\"])\n",
    "df[\"year\"] = df[\"date\"].dt.year \n",
    "df_2018 = df.loc[df[\"year\"] == 2018]\n",
    "\n",
    "#No need for year column after filter\n",
    "df_2018 = df_2018.drop([\"year\"], axis=1)\n",
    "\n",
    "df_to_csv(df_2018,fp + \"/fixed/\" + tbl_name)\n",
    "\n",
    "print(len(df_2018),\"rows written for\", tbl_name + \".csv\")\n",
    "data = None\n",
    "df = None\n",
    "df_2018 = None"
   ]
  },
  {
   "cell_type": "code",
   "execution_count": null,
   "metadata": {},
   "outputs": [],
   "source": [
    "tbl_name = \"checkin\"\n",
    "headers, data = yelp_json_reformat(fp, tbl_name+\".json\")\n",
    "\n",
    "df = pd.DataFrame(data, columns=headers)\n",
    "df[\"date_count\"] = df['date'].apply(get_yelp_csv_count) \n",
    "df = df.drop([\"date\"], axis=1)\n",
    "df_to_csv(df,fp + \"/fixed/\" + tbl_name)\n",
    "\n",
    "print(len(df),\"rows written for\", tbl_name + \".csv\")\n",
    "data = None\n",
    "df = None"
   ]
  },
  {
   "cell_type": "code",
   "execution_count": null,
   "metadata": {},
   "outputs": [],
   "source": [
    "tbl_name = \"tip\"\n",
    "headers, data = yelp_json_reformat(fp, tbl_name+\".json\")\n",
    "\n",
    "df = pd.DataFrame(data, columns=headers)\n",
    "df = df.drop([\"text\"], axis=1)\n",
    "df_to_csv(df,fp + \"/fixed/\" + tbl_name)\n",
    "\n",
    "print(len(df),\"rows written for\", tbl_name + \".csv\")\n",
    "data = None\n",
    "df = None"
   ]
  },
  {
   "cell_type": "code",
   "execution_count": null,
   "metadata": {},
   "outputs": [],
   "source": [
    "tbl_name = \"photo\"\n",
    "headers, data = yelp_json_reformat(fp, tbl_name+\".json\")\n",
    "\n",
    "df = pd.DataFrame(data, columns=headers)\n",
    "\n",
    "df_to_csv(df,fp + \"/fixed/\" + tbl_name)\n",
    "\n",
    "print(len(df),\"rows written for\", tbl_name + \".csv\")\n",
    "data = None\n",
    "df = None"
   ]
  },
  {
   "cell_type": "markdown",
   "metadata": {},
   "source": [
    "#import csv files directly to mysql"
   ]
  },
  {
   "cell_type": "code",
   "execution_count": null,
   "metadata": {},
   "outputs": [],
   "source": [
    "import_csv_to_sql(db_name, \"business\", host, un)"
   ]
  },
  {
   "cell_type": "code",
   "execution_count": null,
   "metadata": {},
   "outputs": [],
   "source": [
    "import_csv_to_sql(db_name, \"user\", host, un)"
   ]
  },
  {
   "cell_type": "code",
   "execution_count": null,
   "metadata": {},
   "outputs": [],
   "source": [
    "import_csv_to_sql(db_name, \"review\", host, un)"
   ]
  },
  {
   "cell_type": "code",
   "execution_count": null,
   "metadata": {},
   "outputs": [],
   "source": [
    "import_csv_to_sql(db_name, \"checkin\", host, un)"
   ]
  },
  {
   "cell_type": "code",
   "execution_count": null,
   "metadata": {},
   "outputs": [],
   "source": [
    "import_csv_to_sql(db_name, \"tip\", host, un)"
   ]
  },
  {
   "cell_type": "code",
   "execution_count": null,
   "metadata": {},
   "outputs": [],
   "source": [
    "import_csv_to_sql(db_name, \"photo\", host, un)"
   ]
  },
  {
   "cell_type": "markdown",
   "metadata": {},
   "source": [
    "#Add fk constraints to review table.\n",
    "#This is done after row inserts to prevent performance issues while the data is being imported.\n",
    "#Warning: This script may take awhile to execute."
   ]
  },
  {
   "cell_type": "code",
   "execution_count": null,
   "metadata": {},
   "outputs": [],
   "source": [
    "try:\n",
    "    con = pymysql.connect(host=\"localhost\",\n",
    "                            user=\"root\",\n",
    "                            password=\"\",\n",
    "                            database=\"yelp\",\n",
    "                            autocommit=True)\n",
    "\n",
    "  \n",
    "    cursor = con.cursor()\n",
    "\n",
    "    q = \"\"\"\n",
    "    ALTER TABLE review\n",
    "    ADD CONSTRAINT review_fk_business_id\n",
    "    FOREIGN KEY (business_id) REFERENCES business(business_id);\n",
    "    \"\"\"\n",
    "    cursor.execute(q)\n",
    "    \n",
    "    q = \"\"\"\n",
    "    ALTER TABLE review\n",
    "    ADD CONSTRAINT review_fk_user_id\n",
    "    FOREIGN KEY (user_id) REFERENCES user(user_id);\n",
    "    \"\"\"\n",
    "    cursor.execute(q)\n",
    "    \n",
    "    q = \"\"\"\n",
    "    ALTER TABLE checkin\n",
    "    ADD CONSTRAINT checkin_fk_business_id\n",
    "    FOREIGN KEY (business_id) REFERENCES business(business_id);\n",
    "    \"\"\"\n",
    "    cursor.execute(q)\n",
    "    \n",
    "    q = \"\"\"\n",
    "    ALTER TABLE photo\n",
    "    ADD CONSTRAINT photo_fk_business_id\n",
    "    FOREIGN KEY (business_id) REFERENCES business(business_id);\n",
    "    \"\"\"\n",
    "    cursor.execute(q)\n",
    "    \n",
    "    q = \"\"\"\n",
    "    ALTER TABLE tip\n",
    "    ADD CONSTRAINT tip_fk_business_id\n",
    "    FOREIGN KEY (business_id) REFERENCES business(business_id);\n",
    "    \"\"\"\n",
    "    cursor.execute(q)\n",
    "    \n",
    "    q = \"\"\"\n",
    "    ALTER TABLE tip\n",
    "    ADD CONSTRAINT tip_fk_user_id\n",
    "    FOREIGN KEY (user_id) REFERENCES user(user_id);\n",
    "    \"\"\"\n",
    "    cursor.execute(q)\n",
    "    \n",
    "    print(\"Foreign Keys have been added to yelp db.\")\n",
    "\n",
    "\n",
    "except Exception as e:\n",
    "    print(\"Error: {}\".format(str(e)))\n",
    "finally:\n",
    "    con.close()"
   ]
  },
  {
   "cell_type": "code",
   "execution_count": null,
   "metadata": {},
   "outputs": [],
   "source": []
  }
 ],
 "metadata": {
  "kernelspec": {
   "display_name": "Python 3",
   "language": "python",
   "name": "python3"
  },
  "language_info": {
   "codemirror_mode": {
    "name": "ipython",
    "version": 3
   },
   "file_extension": ".py",
   "mimetype": "text/x-python",
   "name": "python",
   "nbconvert_exporter": "python",
   "pygments_lexer": "ipython3",
   "version": "3.6.9"
  }
 },
 "nbformat": 4,
 "nbformat_minor": 4
}
