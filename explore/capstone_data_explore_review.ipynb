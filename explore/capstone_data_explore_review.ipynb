{
 "cells": [
  {
   "cell_type": "markdown",
   "metadata": {},
   "source": [
    "## Package imports, global variables and functions"
   ]
  },
  {
   "cell_type": "code",
   "execution_count": 2,
   "metadata": {},
   "outputs": [],
   "source": [
    "import mysql.connector\n",
    "import json\n",
    "import csv\n",
    "import numpy as np\n",
    "import pandas as pd\n",
    "import seaborn as sns\n",
    "import matplotlib.pyplot as plt\n",
    "\n",
    "plt.rcParams['figure.figsize'] = [20, 15]\n",
    "\n",
    "host = \"localhost\"\n",
    "un = \"root\"\n",
    "pw=\"\"\n",
    "db_name = \"yelp\"\n",
    "\n",
    "def mysql_result_to_df(result, cursor):\n",
    "    field_names = [i[0] for i in mycursor.description]\n",
    "    return pd.DataFrame(myresult, columns=field_names)\n",
    "\n",
    "def df_to_csv(df, fp, ext=\".csv\", na_rep=\"\"):\n",
    "    try:\n",
    "        df.to_csv(fp + ext, encoding=\"utf-8\", header = True,\\\n",
    "            doublequote = True, sep=\",\", index=False, na_rep=na_rep)\n",
    "    except Exception as e:\n",
    "        print(\"Error: {}\".format(str(e)))\n",
    "\n",
    "fp = \"C:/Users/Tolis/Documents/Data Analytics Cource/CKME136 X10/Project/data/final/summary\""
   ]
  },
  {
   "cell_type": "markdown",
   "metadata": {},
   "source": [
    "## Connect to yelp db and load user table"
   ]
  },
  {
   "cell_type": "code",
   "execution_count": 3,
   "metadata": {},
   "outputs": [],
   "source": [
    "mydb = mysql.connector.connect(\n",
    "  host=host,\n",
    "  user=un,\n",
    "  passwd=pw,\n",
    "  database=db_name\n",
    ")\n",
    "\n",
    "mycursor = mydb.cursor()\n",
    "\n",
    "mycursor.execute(\"SELECT * FROM review\")\n",
    "\n",
    "myresult = mycursor.fetchall()\n",
    "\n",
    "review_df = mysql_result_to_df(myresult, mycursor)\n",
    "\n",
    "mycursor.close()\n",
    "mydb.close()"
   ]
  },
  {
   "cell_type": "code",
   "execution_count": 4,
   "metadata": {},
   "outputs": [
    {
     "data": {
      "text/html": [
       "<div>\n",
       "<style scoped>\n",
       "    .dataframe tbody tr th:only-of-type {\n",
       "        vertical-align: middle;\n",
       "    }\n",
       "\n",
       "    .dataframe tbody tr th {\n",
       "        vertical-align: top;\n",
       "    }\n",
       "\n",
       "    .dataframe thead th {\n",
       "        text-align: right;\n",
       "    }\n",
       "</style>\n",
       "<table border=\"1\" class=\"dataframe\">\n",
       "  <thead>\n",
       "    <tr style=\"text-align: right;\">\n",
       "      <th></th>\n",
       "      <th>review_id</th>\n",
       "      <th>user_id</th>\n",
       "      <th>business_id</th>\n",
       "      <th>stars</th>\n",
       "      <th>useful</th>\n",
       "      <th>funny</th>\n",
       "      <th>cool</th>\n",
       "      <th>date</th>\n",
       "    </tr>\n",
       "  </thead>\n",
       "  <tbody>\n",
       "    <tr>\n",
       "      <td>0</td>\n",
       "      <td>---HLAnHbuLi7vd5TL6uYg</td>\n",
       "      <td>zyp8SaRnZ94sWZpLrifS1Q</td>\n",
       "      <td>l6xZVTEtdZAvNpL1JhYGuw</td>\n",
       "      <td>4</td>\n",
       "      <td>0</td>\n",
       "      <td>0</td>\n",
       "      <td>0</td>\n",
       "      <td>2018-05-26 13:49:33</td>\n",
       "    </tr>\n",
       "    <tr>\n",
       "      <td>1</td>\n",
       "      <td>---L4b6VR6HoB-q7cfMWIA</td>\n",
       "      <td>697iJkhX1mkVF9RNhn114Q</td>\n",
       "      <td>XiXu6WHbDoopKpeg7DfKdQ</td>\n",
       "      <td>5</td>\n",
       "      <td>3</td>\n",
       "      <td>1</td>\n",
       "      <td>2</td>\n",
       "      <td>2018-04-15 18:54:27</td>\n",
       "    </tr>\n",
       "    <tr>\n",
       "      <td>2</td>\n",
       "      <td>---j05qHS2X7FkXjjMKKtA</td>\n",
       "      <td>E6Aoz-3s4avfweIjziHjbA</td>\n",
       "      <td>cTbFJzHQzFSX-z3JF4abKQ</td>\n",
       "      <td>5</td>\n",
       "      <td>1</td>\n",
       "      <td>0</td>\n",
       "      <td>1</td>\n",
       "      <td>2018-11-02 15:01:11</td>\n",
       "    </tr>\n",
       "    <tr>\n",
       "      <td>3</td>\n",
       "      <td>---sPYSgArT4Sd5v1nDVMQ</td>\n",
       "      <td>iVSuN8PrtKVtLzhNiu23uA</td>\n",
       "      <td>OumGHdbdp7WgyYMhcAdjhw</td>\n",
       "      <td>1</td>\n",
       "      <td>0</td>\n",
       "      <td>0</td>\n",
       "      <td>0</td>\n",
       "      <td>2018-07-07 15:16:09</td>\n",
       "    </tr>\n",
       "    <tr>\n",
       "      <td>4</td>\n",
       "      <td>--0KlCRJ2xye3I71In3gqw</td>\n",
       "      <td>iUdH5Sats3cF46CePD6CYw</td>\n",
       "      <td>vNoyICtClJd3pcMG96CXsA</td>\n",
       "      <td>5</td>\n",
       "      <td>0</td>\n",
       "      <td>0</td>\n",
       "      <td>0</td>\n",
       "      <td>2018-03-06 03:08:29</td>\n",
       "    </tr>\n",
       "    <tr>\n",
       "      <td>5</td>\n",
       "      <td>--0SzSMXVUoAXfackNoB4g</td>\n",
       "      <td>v9P7J6hWWtIblnylQ5UBfA</td>\n",
       "      <td>iCQpiavjjPzJ5_3gPD5Ebg</td>\n",
       "      <td>5</td>\n",
       "      <td>0</td>\n",
       "      <td>0</td>\n",
       "      <td>0</td>\n",
       "      <td>2018-05-09 13:59:37</td>\n",
       "    </tr>\n",
       "    <tr>\n",
       "      <td>6</td>\n",
       "      <td>--0tVDx0kTRGrV6e5jrIcg</td>\n",
       "      <td>uEw4OJCZuNL2sjsppG2_Gw</td>\n",
       "      <td>bI28nvujPldWdWsQ5sVRlQ</td>\n",
       "      <td>2</td>\n",
       "      <td>0</td>\n",
       "      <td>0</td>\n",
       "      <td>0</td>\n",
       "      <td>2018-08-11 04:02:35</td>\n",
       "    </tr>\n",
       "    <tr>\n",
       "      <td>7</td>\n",
       "      <td>--1JMhPk6K9fZo4FOp_yMw</td>\n",
       "      <td>2xZ1mHP14as5RJ1KOrVU4A</td>\n",
       "      <td>QJatAcxYgK1Zp9BRZMAx7g</td>\n",
       "      <td>2</td>\n",
       "      <td>0</td>\n",
       "      <td>0</td>\n",
       "      <td>0</td>\n",
       "      <td>2018-06-16 17:00:42</td>\n",
       "    </tr>\n",
       "    <tr>\n",
       "      <td>8</td>\n",
       "      <td>--23TchR_Yc84EtfTkjvlg</td>\n",
       "      <td>w9URAIc40f_vYRuAGZ_9qQ</td>\n",
       "      <td>m9Cme6bUPuZFtqhN1AgmdQ</td>\n",
       "      <td>4</td>\n",
       "      <td>2</td>\n",
       "      <td>1</td>\n",
       "      <td>1</td>\n",
       "      <td>2018-05-23 20:34:46</td>\n",
       "    </tr>\n",
       "    <tr>\n",
       "      <td>9</td>\n",
       "      <td>--29SBl8OUdsRP0aSm-Sxw</td>\n",
       "      <td>P2Q7PgJamWesMxRxI0av_Q</td>\n",
       "      <td>TW53EB3Xw-uWnN3XS8qulQ</td>\n",
       "      <td>1</td>\n",
       "      <td>0</td>\n",
       "      <td>0</td>\n",
       "      <td>0</td>\n",
       "      <td>2018-07-30 15:45:24</td>\n",
       "    </tr>\n",
       "  </tbody>\n",
       "</table>\n",
       "</div>"
      ],
      "text/plain": [
       "                review_id                 user_id             business_id  \\\n",
       "0  ---HLAnHbuLi7vd5TL6uYg  zyp8SaRnZ94sWZpLrifS1Q  l6xZVTEtdZAvNpL1JhYGuw   \n",
       "1  ---L4b6VR6HoB-q7cfMWIA  697iJkhX1mkVF9RNhn114Q  XiXu6WHbDoopKpeg7DfKdQ   \n",
       "2  ---j05qHS2X7FkXjjMKKtA  E6Aoz-3s4avfweIjziHjbA  cTbFJzHQzFSX-z3JF4abKQ   \n",
       "3  ---sPYSgArT4Sd5v1nDVMQ  iVSuN8PrtKVtLzhNiu23uA  OumGHdbdp7WgyYMhcAdjhw   \n",
       "4  --0KlCRJ2xye3I71In3gqw  iUdH5Sats3cF46CePD6CYw  vNoyICtClJd3pcMG96CXsA   \n",
       "5  --0SzSMXVUoAXfackNoB4g  v9P7J6hWWtIblnylQ5UBfA  iCQpiavjjPzJ5_3gPD5Ebg   \n",
       "6  --0tVDx0kTRGrV6e5jrIcg  uEw4OJCZuNL2sjsppG2_Gw  bI28nvujPldWdWsQ5sVRlQ   \n",
       "7  --1JMhPk6K9fZo4FOp_yMw  2xZ1mHP14as5RJ1KOrVU4A  QJatAcxYgK1Zp9BRZMAx7g   \n",
       "8  --23TchR_Yc84EtfTkjvlg  w9URAIc40f_vYRuAGZ_9qQ  m9Cme6bUPuZFtqhN1AgmdQ   \n",
       "9  --29SBl8OUdsRP0aSm-Sxw  P2Q7PgJamWesMxRxI0av_Q  TW53EB3Xw-uWnN3XS8qulQ   \n",
       "\n",
       "   stars  useful  funny  cool                date  \n",
       "0      4       0      0     0 2018-05-26 13:49:33  \n",
       "1      5       3      1     2 2018-04-15 18:54:27  \n",
       "2      5       1      0     1 2018-11-02 15:01:11  \n",
       "3      1       0      0     0 2018-07-07 15:16:09  \n",
       "4      5       0      0     0 2018-03-06 03:08:29  \n",
       "5      5       0      0     0 2018-05-09 13:59:37  \n",
       "6      2       0      0     0 2018-08-11 04:02:35  \n",
       "7      2       0      0     0 2018-06-16 17:00:42  \n",
       "8      4       2      1     1 2018-05-23 20:34:46  \n",
       "9      1       0      0     0 2018-07-30 15:45:24  "
      ]
     },
     "execution_count": 4,
     "metadata": {},
     "output_type": "execute_result"
    }
   ],
   "source": [
    "review_df.head(10)"
   ]
  },
  {
   "cell_type": "code",
   "execution_count": 5,
   "metadata": {},
   "outputs": [],
   "source": [
    "#Replace empty strings and json objects to null\n",
    "review_df = review_df.replace(r'^\\s*$', np.nan, regex=True)\n",
    "review_df = review_df.replace(r'^{}*$', np.nan, regex=True)"
   ]
  },
  {
   "cell_type": "markdown",
   "metadata": {},
   "source": [
    "## Numeric summaries"
   ]
  },
  {
   "cell_type": "code",
   "execution_count": 6,
   "metadata": {},
   "outputs": [
    {
     "name": "stdout",
     "output_type": "stream",
     "text": [
      "              stars        useful         funny          cool\n",
      "count  1.177662e+06  1.177662e+06  1.177662e+06  1.177662e+06\n",
      "mean   3.764044e+00  8.310797e-01  2.876640e-01  4.766087e-01\n",
      "std    1.543753e+00  3.467254e+00  1.927278e+00  3.002302e+00\n",
      "min    1.000000e+00  0.000000e+00  0.000000e+00  0.000000e+00\n",
      "25%    3.000000e+00  0.000000e+00  0.000000e+00  0.000000e+00\n",
      "50%    5.000000e+00  0.000000e+00  0.000000e+00  0.000000e+00\n",
      "75%    5.000000e+00  1.000000e+00  0.000000e+00  0.000000e+00\n",
      "max    5.000000e+00  3.580000e+02  2.540000e+02  3.470000e+02\n"
     ]
    }
   ],
   "source": [
    "#Description of quantitative fields.\n",
    "df_description_number = review_df.describe(include=[np.number])\n",
    "print(df_description_number)"
   ]
  },
  {
   "cell_type": "code",
   "execution_count": 7,
   "metadata": {},
   "outputs": [
    {
     "name": "stdout",
     "output_type": "stream",
     "text": [
      "                     review_id                 user_id             business_id\n",
      "count                  1177662                 1177662                 1177662\n",
      "unique                 1177662                  510785                  124370\n",
      "top     2irCMa2xJQzEG1ykvmLgAA  I-4KVZ9lqHhk8469X9FvhA  vHz2RLtfUMVRPFmd7VBEHA\n",
      "freq                         1                     780                    2078\n"
     ]
    }
   ],
   "source": [
    "#Description for qualitative\n",
    "df_description_cat = review_df.describe(include=[np.object])\n",
    "print(df_description_cat)"
   ]
  },
  {
   "cell_type": "code",
   "execution_count": 8,
   "metadata": {},
   "outputs": [
    {
     "name": "stdout",
     "output_type": "stream",
     "text": [
      "(1177662, 8)\n"
     ]
    }
   ],
   "source": [
    "#Row and col counts.\n",
    "row_count = review_df.shape[0]\n",
    "col_count = review_df.shape[1]\n",
    "print(review_df.shape)"
   ]
  },
  {
   "cell_type": "code",
   "execution_count": 9,
   "metadata": {},
   "outputs": [
    {
     "name": "stdout",
     "output_type": "stream",
     "text": [
      "Empty DataFrame\n",
      "Columns: [Null Count, Null Percent]\n",
      "Index: []\n"
     ]
    }
   ],
   "source": [
    "#Summary of NULLS\n",
    "#Doesn't seem to be any nulls\n",
    "null_columns=review_df.columns[review_df.isnull().any()]\n",
    "df_description_nulls=review_df[null_columns].isnull().sum()\n",
    "df_description_nulls = pd.DataFrame(df_description_nulls, columns=[\"Null Count\"])\n",
    "df_description_nulls[\"Null Percent\"] = df_description_nulls[\"Null Count\"].apply(lambda x: x/row_count)\n",
    "print(df_description_nulls)"
   ]
  },
  {
   "cell_type": "markdown",
   "metadata": {},
   "source": [
    "# Plots"
   ]
  },
  {
   "cell_type": "code",
   "execution_count": 10,
   "metadata": {},
   "outputs": [
    {
     "data": {
      "text/plain": [
       "<matplotlib.axes._subplots.AxesSubplot at 0x1bb51c9ad30>"
      ]
     },
     "execution_count": 10,
     "metadata": {},
     "output_type": "execute_result"
    },
    {
     "data": {
      "image/png": "[encoded data removed]",
      "text/plain": [
       "<Figure size 1440x1080 with 2 Axes>"
      ]
     },
     "metadata": {
      "needs_background": "light"
     },
     "output_type": "display_data"
    }
   ],
   "source": [
    "#Visualize correlations between quantitative vars\n",
    "#variables that are strongly correleated will be removed during the feature selection process.\n",
    "corr = review_df.corr()\n",
    "sns.heatmap(corr, cmap=\"Blues\", \n",
    "            xticklabels=corr.columns.values,\n",
    "            yticklabels=corr.columns.values)"
   ]
  },
  {
   "cell_type": "code",
   "execution_count": 11,
   "metadata": {},
   "outputs": [
    {
     "data": {
      "image/png": "[encoded data removed]",
      "text/plain": [
       "<Figure size 1440x1080 with 4 Axes>"
      ]
     },
     "metadata": {
      "needs_background": "light"
     },
     "output_type": "display_data"
    }
   ],
   "source": [
    "review_df_num = review_df.select_dtypes(include=np.number)\n",
    "\n",
    "\n",
    "hist = review_df_num.hist()\n",
    "#Histograms don't really show much here because a lot of the fields are very close together with little spread.\n",
    "#In addition, most values for these fields seem to be close to 0.\n",
    "#However, it seems stars has a skewed to the left distribution (due to the peak at 5.0."
   ]
  },
  {
   "cell_type": "code",
   "execution_count": 12,
   "metadata": {},
   "outputs": [
    {
     "data": {
      "text/plain": [
       "<matplotlib.axes._subplots.AxesSubplot at 0x1bb51f71e10>"
      ]
     },
     "execution_count": 12,
     "metadata": {},
     "output_type": "execute_result"
    },
    {
     "data": {
      "image/png": "[encoded data removed]",
      "text/plain": [
       "<Figure size 1440x1080 with 1 Axes>"
      ]
     },
     "metadata": {
      "needs_background": "light"
     },
     "output_type": "display_data"
    }
   ],
   "source": [
    "#Scale and center data to compare variance in side-by-side boxplots, and to easily spot outliers.\n",
    "df_center = (review_df_num - review_df_num.mean())\n",
    "df_scale = (df_center - df_center.mean())/df_center.std()\n",
    "df_scale.plot.box()\n",
    "#A lot of outlier and extremes. These will have to be treated prior to analysis.\n",
    "#Stars seems to have low spread with no outliers, most likely because there is a max set by yelp."
   ]
  },
  {
   "cell_type": "code",
   "execution_count": 13,
   "metadata": {},
   "outputs": [],
   "source": [
    "#Clean up and save description csv.\n",
    "#The plots can be obtained via screenshot.\n",
    "\n",
    "#To make sure field names make it in output csv\n",
    "row_labels = df_description_nulls.index.values\n",
    "df_description_nulls.insert (0, \"Field\", row_labels)\n",
    "df_to_csv(df_description_nulls, fp + \"/review_desc_nulls\", ext=\".csv\", na_rep=\"\")\n",
    "\n",
    "row_labels = df_description_number.index.values\n",
    "df_description_number.insert (0, \"Param\", row_labels)\n",
    "df_to_csv(df_description_number, fp + \"/review_desc_number\", ext=\".csv\", na_rep=\"\")\n",
    "\n",
    "row_labels = df_description_cat.index.values\n",
    "df_description_cat.insert (0, \"Param\", row_labels)\n",
    "df_to_csv(df_description_cat, fp + \"/review_desc_cat\", ext=\".csv\", na_rep=\"\")\n",
    "review_df = None\n",
    "review_df_num = None\n",
    "review_df_cat = None"
   ]
  }
 ],
 "metadata": {
  "kernelspec": {
   "display_name": "Python 3",
   "language": "python",
   "name": "python3"
  },
  "language_info": {
   "codemirror_mode": {
    "name": "ipython",
    "version": 3
   },
   "file_extension": ".py",
   "mimetype": "text/x-python",
   "name": "python",
   "nbconvert_exporter": "python",
   "pygments_lexer": "ipython3",
   "version": "3.6.9"
  }
 },
 "nbformat": 4,
 "nbformat_minor": 4
}
