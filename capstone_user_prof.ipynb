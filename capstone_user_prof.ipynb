{
 "cells": [
  {
   "cell_type": "markdown",
   "metadata": {},
   "source": [
    "# User Profile Vector Creation\n",
    "<p>This script maps a users rating for a business, which is out of 5 stars, to a binary class of either: -1 or 1 that indicates whether or not a user liked a business. The success case in this scenerio is 1 which represents a user like, and the fail case is -1 which represents a dislike.  To find whether or not a user liked a business, a threshhold of 3 stars was created.  If a user's rating is atleast 3 stars, a 1/like will be returned. Otherwise, a -1/dislike will be returned.</p>\n",
    "<p>The result from mapping a user's star rating to a binary class is then joined with the (normalized) business profile vectors (by buisness_id).  The join operation is  to obtain the product between a user's like score (1/-1) and each feature from businesses they have interacted with.</p>"
   ]
  },
  {
   "cell_type": "markdown",
   "metadata": {},
   "source": [
    "## Libraries, functions, and globals."
   ]
  },
  {
   "cell_type": "code",
   "execution_count": 1,
   "metadata": {},
   "outputs": [],
   "source": [
    "import mysql.connector\n",
    "import os\n",
    "import numpy as np\n",
    "import pandas as pd\n",
    "import dask.dataframe as dd\n",
    "import multiprocessing as mp\n",
    "import math\n",
    "import matplotlib.pyplot as plt\n",
    "\n",
    "host = \"localhost\"\n",
    "un = \"root\"\n",
    "pw=\"\"\n",
    "db_name = \"yelp\"\n",
    "fp = \"C:/Users/Tolis/Documents/Data Analytics Cource/CKME136 X10/Project/data/final/profiles\"\n",
    "\n",
    "def mysql_result_to_df(result, cursor):\n",
    "    field_names = [i[0] for i in cursor.description]\n",
    "    return pd.DataFrame(result, columns=field_names)\n",
    "\n",
    "def df_to_csv(df, fp, ext=\".csv\", na_rep=\"\"):\n",
    "    try:\n",
    "        df.to_csv(fp + ext, encoding=\"utf-8\", header = True,\\\n",
    "            doublequote = True, sep=\",\", index=False, na_rep=na_rep)\n",
    "    except Exception as e:\n",
    "        print(\"Error: {}\".format(str(e)))\n",
    "        \n",
    "def drop_from_list(l, val):\n",
    "    drop_index = None\n",
    "    for i,v in enumerate(cols):\n",
    "        if(v==val): \n",
    "            drop_index = i\n",
    "            break\n",
    "    if(pd.isnull(drop_index)):\n",
    "        print(\"Did not find value \", str(v))\n",
    "        return l\n",
    "    else:\n",
    "        return l[:drop_index] + l[drop_index+1:]\n",
    "\n",
    "npartitions = 4 * mp.cpu_count()"
   ]
  },
  {
   "cell_type": "markdown",
   "metadata": {},
   "source": [
    "## Load user table to obtain a list of users, businesses, and a binary class column (like/dislike)"
   ]
  },
  {
   "cell_type": "markdown",
   "metadata": {},
   "source": [
    "#### Connect to mysql and create the review dataframe.\n",
    "<p>*Note: A user id mapping table also gets created here.  This is to convert 22 character user id strings to integers for performance reasons.</p>"
   ]
  },
  {
   "cell_type": "code",
   "execution_count": 2,
   "metadata": {},
   "outputs": [
    {
     "data": {
      "text/html": [
       "<div>\n",
       "<style scoped>\n",
       "    .dataframe tbody tr th:only-of-type {\n",
       "        vertical-align: middle;\n",
       "    }\n",
       "\n",
       "    .dataframe tbody tr th {\n",
       "        vertical-align: top;\n",
       "    }\n",
       "\n",
       "    .dataframe thead th {\n",
       "        text-align: right;\n",
       "    }\n",
       "</style>\n",
       "<table border=\"1\" class=\"dataframe\">\n",
       "  <thead>\n",
       "    <tr style=\"text-align: right;\">\n",
       "      <th></th>\n",
       "      <th>user_id</th>\n",
       "      <th>business_id</th>\n",
       "      <th>like/dislike</th>\n",
       "    </tr>\n",
       "  </thead>\n",
       "  <tbody>\n",
       "    <tr>\n",
       "      <td>0</td>\n",
       "      <td>zyp8SaRnZ94sWZpLrifS1Q</td>\n",
       "      <td>l6xZVTEtdZAvNpL1JhYGuw</td>\n",
       "      <td>1</td>\n",
       "    </tr>\n",
       "    <tr>\n",
       "      <td>1</td>\n",
       "      <td>697iJkhX1mkVF9RNhn114Q</td>\n",
       "      <td>XiXu6WHbDoopKpeg7DfKdQ</td>\n",
       "      <td>1</td>\n",
       "    </tr>\n",
       "    <tr>\n",
       "      <td>2</td>\n",
       "      <td>E6Aoz-3s4avfweIjziHjbA</td>\n",
       "      <td>cTbFJzHQzFSX-z3JF4abKQ</td>\n",
       "      <td>1</td>\n",
       "    </tr>\n",
       "    <tr>\n",
       "      <td>3</td>\n",
       "      <td>iVSuN8PrtKVtLzhNiu23uA</td>\n",
       "      <td>OumGHdbdp7WgyYMhcAdjhw</td>\n",
       "      <td>-1</td>\n",
       "    </tr>\n",
       "    <tr>\n",
       "      <td>4</td>\n",
       "      <td>iUdH5Sats3cF46CePD6CYw</td>\n",
       "      <td>vNoyICtClJd3pcMG96CXsA</td>\n",
       "      <td>1</td>\n",
       "    </tr>\n",
       "  </tbody>\n",
       "</table>\n",
       "</div>"
      ],
      "text/plain": [
       "                  user_id             business_id  like/dislike\n",
       "0  zyp8SaRnZ94sWZpLrifS1Q  l6xZVTEtdZAvNpL1JhYGuw             1\n",
       "1  697iJkhX1mkVF9RNhn114Q  XiXu6WHbDoopKpeg7DfKdQ             1\n",
       "2  E6Aoz-3s4avfweIjziHjbA  cTbFJzHQzFSX-z3JF4abKQ             1\n",
       "3  iVSuN8PrtKVtLzhNiu23uA  OumGHdbdp7WgyYMhcAdjhw            -1\n",
       "4  iUdH5Sats3cF46CePD6CYw  vNoyICtClJd3pcMG96CXsA             1"
      ]
     },
     "execution_count": 2,
     "metadata": {},
     "output_type": "execute_result"
    }
   ],
   "source": [
    "mydb = mysql.connector.connect(\n",
    "  host=host,\n",
    "  user=un,\n",
    "  passwd=pw,\n",
    "  database=db_name\n",
    ")\n",
    "\n",
    "mycursor = mydb.cursor()\n",
    "\n",
    "q = \"\"\"\n",
    "SELECT user_id, business_id,\n",
    "CASE\n",
    "    WHEN stars >= 3.5 THEN 1\n",
    "    ELSE -1\n",
    "END AS \"like/dislike\"\n",
    "FROM review\n",
    "\"\"\"\n",
    "\n",
    "mycursor.execute(q)\n",
    "\n",
    "myresult = mycursor.fetchall()\n",
    "\n",
    "user_rating_df = mysql_result_to_df(myresult, mycursor)\n",
    "user_rating_df[\"business_id\"] = user_rating_df[\"business_id\"].astype(\"category\")\n",
    "\n",
    "mycursor.close()\n",
    "mydb.close()\n",
    "\n",
    "user_rating_df.head()"
   ]
  },
  {
   "cell_type": "markdown",
   "metadata": {},
   "source": [
    "#### Create a user ID mapping table that maps IDs to integer values.\n",
    "<p>This is due to the user IDs being 22 chars long, causing performance issues.</p>"
   ]
  },
  {
   "cell_type": "code",
   "execution_count": 3,
   "metadata": {},
   "outputs": [
    {
     "data": {
      "text/html": [
       "<div>\n",
       "<style scoped>\n",
       "    .dataframe tbody tr th:only-of-type {\n",
       "        vertical-align: middle;\n",
       "    }\n",
       "\n",
       "    .dataframe tbody tr th {\n",
       "        vertical-align: top;\n",
       "    }\n",
       "\n",
       "    .dataframe thead th {\n",
       "        text-align: right;\n",
       "    }\n",
       "</style>\n",
       "<table border=\"1\" class=\"dataframe\">\n",
       "  <thead>\n",
       "    <tr style=\"text-align: right;\">\n",
       "      <th></th>\n",
       "      <th>index</th>\n",
       "      <th>user_id</th>\n",
       "    </tr>\n",
       "  </thead>\n",
       "  <tbody>\n",
       "    <tr>\n",
       "      <td>0</td>\n",
       "      <td>0</td>\n",
       "      <td>zyp8SaRnZ94sWZpLrifS1Q</td>\n",
       "    </tr>\n",
       "    <tr>\n",
       "      <td>1</td>\n",
       "      <td>1</td>\n",
       "      <td>697iJkhX1mkVF9RNhn114Q</td>\n",
       "    </tr>\n",
       "    <tr>\n",
       "      <td>2</td>\n",
       "      <td>2</td>\n",
       "      <td>E6Aoz-3s4avfweIjziHjbA</td>\n",
       "    </tr>\n",
       "    <tr>\n",
       "      <td>3</td>\n",
       "      <td>3</td>\n",
       "      <td>iVSuN8PrtKVtLzhNiu23uA</td>\n",
       "    </tr>\n",
       "    <tr>\n",
       "      <td>4</td>\n",
       "      <td>4</td>\n",
       "      <td>iUdH5Sats3cF46CePD6CYw</td>\n",
       "    </tr>\n",
       "  </tbody>\n",
       "</table>\n",
       "</div>"
      ],
      "text/plain": [
       "   index                 user_id\n",
       "0      0  zyp8SaRnZ94sWZpLrifS1Q\n",
       "1      1  697iJkhX1mkVF9RNhn114Q\n",
       "2      2  E6Aoz-3s4avfweIjziHjbA\n",
       "3      3  iVSuN8PrtKVtLzhNiu23uA\n",
       "4      4  iUdH5Sats3cF46CePD6CYw"
      ]
     },
     "execution_count": 3,
     "metadata": {},
     "output_type": "execute_result"
    }
   ],
   "source": [
    "# Obtain all unique IDs from review table.  The index column will be used as the integer value for the user id.\n",
    "user_id_map = pd.DataFrame(user_rating_df[\"user_id\"].unique(), columns=[\"user_id\"]).reset_index()\n",
    "\n",
    "# Join the user id map to obtain the integer value for each user id\n",
    "user_rating_df = user_rating_df.merge(user_id_map, how=\"inner\", on=\"user_id\")\n",
    "\n",
    "# Convert ids to integers and drop index field\n",
    "user_rating_df[\"user_id\"] = user_rating_df[\"index\"].values\n",
    "user_rating_df = user_rating_df.drop([\"index\"], axis=1)\n",
    "\n",
    "# Save id map and clear memory\n",
    "user_id_map.to_parquet(fp+\"/user_id_map.gzip\", compression=\"gzip\")\n",
    "user_id_map.head()"
   ]
  },
  {
   "cell_type": "code",
   "execution_count": 4,
   "metadata": {},
   "outputs": [],
   "source": [
    "user_id_map = None"
   ]
  },
  {
   "cell_type": "markdown",
   "metadata": {},
   "source": [
    "#### Load normalized business profiles and join with user review data\n",
    "<p>The user's like/dislike value will be multiplied with each feature that the associated (liked/disliked) business has.  This will be applied for all businesses a user has interacted with in this way, and the column sum of the results for that user will be taken to represent their taste.</p>"
   ]
  },
  {
   "cell_type": "code",
   "execution_count": 5,
   "metadata": {},
   "outputs": [
    {
     "data": {
      "text/html": [
       "<div>\n",
       "<style scoped>\n",
       "    .dataframe tbody tr th:only-of-type {\n",
       "        vertical-align: middle;\n",
       "    }\n",
       "\n",
       "    .dataframe tbody tr th {\n",
       "        vertical-align: top;\n",
       "    }\n",
       "\n",
       "    .dataframe thead th {\n",
       "        text-align: right;\n",
       "    }\n",
       "</style>\n",
       "<table border=\"1\" class=\"dataframe\">\n",
       "  <thead>\n",
       "    <tr style=\"text-align: right;\">\n",
       "      <th></th>\n",
       "      <th>lot</th>\n",
       "      <th>garage</th>\n",
       "      <th>valet</th>\n",
       "      <th>street</th>\n",
       "      <th>validated</th>\n",
       "      <th>lunch</th>\n",
       "      <th>dinner</th>\n",
       "      <th>brunch</th>\n",
       "      <th>breakfast</th>\n",
       "      <th>dessert</th>\n",
       "      <th>...</th>\n",
       "      <th>badminton</th>\n",
       "      <th>perfume</th>\n",
       "      <th>themed-cafes</th>\n",
       "      <th>misting-system-services</th>\n",
       "      <th>cideries</th>\n",
       "      <th>bike-tours</th>\n",
       "      <th>private-schools</th>\n",
       "      <th>drive-in-theater</th>\n",
       "      <th>user_id</th>\n",
       "      <th>like/dislike</th>\n",
       "    </tr>\n",
       "  </thead>\n",
       "  <tbody>\n",
       "    <tr>\n",
       "      <td>0</td>\n",
       "      <td>0.000000</td>\n",
       "      <td>0.0</td>\n",
       "      <td>0.0</td>\n",
       "      <td>0.0</td>\n",
       "      <td>0.0</td>\n",
       "      <td>0.000000</td>\n",
       "      <td>0.000000</td>\n",
       "      <td>0.0</td>\n",
       "      <td>0.0</td>\n",
       "      <td>0.0</td>\n",
       "      <td>...</td>\n",
       "      <td>0.0</td>\n",
       "      <td>0.0</td>\n",
       "      <td>0.0</td>\n",
       "      <td>0.0</td>\n",
       "      <td>0.0</td>\n",
       "      <td>0.0</td>\n",
       "      <td>0.0</td>\n",
       "      <td>0.0</td>\n",
       "      <td>83035</td>\n",
       "      <td>1</td>\n",
       "    </tr>\n",
       "    <tr>\n",
       "      <td>1</td>\n",
       "      <td>0.000000</td>\n",
       "      <td>0.0</td>\n",
       "      <td>0.0</td>\n",
       "      <td>0.0</td>\n",
       "      <td>0.0</td>\n",
       "      <td>0.000000</td>\n",
       "      <td>0.000000</td>\n",
       "      <td>0.0</td>\n",
       "      <td>0.0</td>\n",
       "      <td>0.0</td>\n",
       "      <td>...</td>\n",
       "      <td>0.0</td>\n",
       "      <td>0.0</td>\n",
       "      <td>0.0</td>\n",
       "      <td>0.0</td>\n",
       "      <td>0.0</td>\n",
       "      <td>0.0</td>\n",
       "      <td>0.0</td>\n",
       "      <td>0.0</td>\n",
       "      <td>126228</td>\n",
       "      <td>-1</td>\n",
       "    </tr>\n",
       "    <tr>\n",
       "      <td>2</td>\n",
       "      <td>0.000000</td>\n",
       "      <td>0.0</td>\n",
       "      <td>0.0</td>\n",
       "      <td>0.0</td>\n",
       "      <td>0.0</td>\n",
       "      <td>0.000000</td>\n",
       "      <td>0.000000</td>\n",
       "      <td>0.0</td>\n",
       "      <td>0.0</td>\n",
       "      <td>0.0</td>\n",
       "      <td>...</td>\n",
       "      <td>0.0</td>\n",
       "      <td>0.0</td>\n",
       "      <td>0.0</td>\n",
       "      <td>0.0</td>\n",
       "      <td>0.0</td>\n",
       "      <td>0.0</td>\n",
       "      <td>0.0</td>\n",
       "      <td>0.0</td>\n",
       "      <td>135290</td>\n",
       "      <td>1</td>\n",
       "    </tr>\n",
       "    <tr>\n",
       "      <td>3</td>\n",
       "      <td>0.000000</td>\n",
       "      <td>0.0</td>\n",
       "      <td>0.0</td>\n",
       "      <td>0.0</td>\n",
       "      <td>0.0</td>\n",
       "      <td>0.000000</td>\n",
       "      <td>0.000000</td>\n",
       "      <td>0.0</td>\n",
       "      <td>0.0</td>\n",
       "      <td>0.0</td>\n",
       "      <td>...</td>\n",
       "      <td>0.0</td>\n",
       "      <td>0.0</td>\n",
       "      <td>0.0</td>\n",
       "      <td>0.0</td>\n",
       "      <td>0.0</td>\n",
       "      <td>0.0</td>\n",
       "      <td>0.0</td>\n",
       "      <td>0.0</td>\n",
       "      <td>156293</td>\n",
       "      <td>-1</td>\n",
       "    </tr>\n",
       "    <tr>\n",
       "      <td>4</td>\n",
       "      <td>0.408248</td>\n",
       "      <td>0.0</td>\n",
       "      <td>0.0</td>\n",
       "      <td>0.0</td>\n",
       "      <td>0.0</td>\n",
       "      <td>0.408248</td>\n",
       "      <td>0.408248</td>\n",
       "      <td>0.0</td>\n",
       "      <td>0.0</td>\n",
       "      <td>0.0</td>\n",
       "      <td>...</td>\n",
       "      <td>0.0</td>\n",
       "      <td>0.0</td>\n",
       "      <td>0.0</td>\n",
       "      <td>0.0</td>\n",
       "      <td>0.0</td>\n",
       "      <td>0.0</td>\n",
       "      <td>0.0</td>\n",
       "      <td>0.0</td>\n",
       "      <td>5715</td>\n",
       "      <td>1</td>\n",
       "    </tr>\n",
       "  </tbody>\n",
       "</table>\n",
       "<p>5 rows × 1131 columns</p>\n",
       "</div>"
      ],
      "text/plain": [
       "        lot  garage  valet  street  validated     lunch    dinner  brunch  \\\n",
       "0  0.000000     0.0    0.0     0.0        0.0  0.000000  0.000000     0.0   \n",
       "1  0.000000     0.0    0.0     0.0        0.0  0.000000  0.000000     0.0   \n",
       "2  0.000000     0.0    0.0     0.0        0.0  0.000000  0.000000     0.0   \n",
       "3  0.000000     0.0    0.0     0.0        0.0  0.000000  0.000000     0.0   \n",
       "4  0.408248     0.0    0.0     0.0        0.0  0.408248  0.408248     0.0   \n",
       "\n",
       "   breakfast  dessert  ...  badminton  perfume  themed-cafes  \\\n",
       "0        0.0      0.0  ...        0.0      0.0           0.0   \n",
       "1        0.0      0.0  ...        0.0      0.0           0.0   \n",
       "2        0.0      0.0  ...        0.0      0.0           0.0   \n",
       "3        0.0      0.0  ...        0.0      0.0           0.0   \n",
       "4        0.0      0.0  ...        0.0      0.0           0.0   \n",
       "\n",
       "   misting-system-services  cideries  bike-tours  private-schools  \\\n",
       "0                      0.0       0.0         0.0              0.0   \n",
       "1                      0.0       0.0         0.0              0.0   \n",
       "2                      0.0       0.0         0.0              0.0   \n",
       "3                      0.0       0.0         0.0              0.0   \n",
       "4                      0.0       0.0         0.0              0.0   \n",
       "\n",
       "   drive-in-theater  user_id  like/dislike  \n",
       "0               0.0    83035             1  \n",
       "1               0.0   126228            -1  \n",
       "2               0.0   135290             1  \n",
       "3               0.0   156293            -1  \n",
       "4               0.0     5715             1  \n",
       "\n",
       "[5 rows x 1131 columns]"
      ]
     },
     "execution_count": 5,
     "metadata": {},
     "output_type": "execute_result"
    }
   ],
   "source": [
    "fn = \"business_profiles_normalized.gzip\"\n",
    "business_profs_df = pd.read_parquet(fp+\"/\"+fn)\n",
    "\n",
    "bus_profiles_with_user = business_profs_df.merge(user_rating_df,\n",
    "                                  on=\"business_id\",\n",
    "                                  how=\"inner\")\n",
    "\n",
    "bus_profiles_with_user = bus_profiles_with_user.drop([\"business_id\"], axis=1)\n",
    "\n",
    "# Clear some memory by removing variables that aren't needed...\n",
    "business_profs_dd = None\n",
    "business_profs_df = None\n",
    "user_rating_df = None\n",
    "bus_profiles_with_user.head()"
   ]
  },
  {
   "cell_type": "markdown",
   "metadata": {},
   "source": [
    "#### Create a column list to split data into chunks by column due to the large amount of features and rows\n",
    "<p>This will be used to run the group by operation on the user profile data at the bottom of this file, which seems to be the most performance intensive operation.  Splitting the data into chunks reduces the load on my machine and makes it possible to work with all the data as opposed to a sample.</p>"
   ]
  },
  {
   "cell_type": "code",
   "execution_count": 6,
   "metadata": {},
   "outputs": [],
   "source": [
    "# Get all features from joined data except user_id and the like/dislike field\n",
    "cols = bus_profiles_with_user.columns.tolist()\n",
    "cols = drop_from_list(cols,\"user_id\")\n",
    "cols = drop_from_list(cols, \"like/dislike\")\n",
    "\n",
    "# This will split the data by columns using the specified amount.\n",
    "# Note: this is for performance reasons due to the large number of features.\n",
    "cols_split_by = 4\n",
    "\n",
    "# Obtain the chunk size of each split and round down to get a whole number\n",
    "col_split = len(cols) / cols_split_by\n",
    "col_split = math.floor(col_split)\n",
    "\n",
    "i = 0\n",
    "# This will hold each column slice\n",
    "slices = []\n",
    "\n",
    "while i < cols_split_by:\n",
    "    \n",
    "    # If first itiration, get everything from start to first chunk\n",
    "    if(i==0):\n",
    "        end = col_split+1\n",
    "        sliced = cols[:end]\n",
    "    # If last itiration, calculate the start pos of last chunk ...\n",
    "    # and get everything until the end of list\n",
    "    elif(i == cols_split_by-1):\n",
    "        # start pos = current loop index * the chunk size\n",
    "        # +1 was added to the col_split to pick-up values where the previous slice left off\n",
    "        start = (i) * (col_split+1)\n",
    "        sliced = cols[start:]\n",
    "    # Else case: this would be somewhere in the middle of the column list split operation ...\n",
    "    # This code block takes the start and end positions and obtains a chunk of column names\n",
    "    else:\n",
    "        start = (i) * (col_split+1)\n",
    "        end = start + col_split + 1\n",
    "        \n",
    "        sliced = cols[start:end]\n",
    "    \n",
    "    # Append the sliced data to the list holding all slices\n",
    "    slices.append(sliced)\n",
    "    \n",
    "    i += 1"
   ]
  },
  {
   "cell_type": "markdown",
   "metadata": {},
   "source": [
    "#### Check the structure and memory usage of the data\n",
    "<p>*Note: The block below shows that the dataframe is taking up 10gb of memory, which is why calculations will be done using data that was split by column in chunks.</p>"
   ]
  },
  {
   "cell_type": "code",
   "execution_count": 7,
   "metadata": {},
   "outputs": [
    {
     "name": "stdout",
     "output_type": "stream",
     "text": [
      "<class 'pandas.core.frame.DataFrame'>\n",
      "Int64Index: 1177124 entries, 0 to 1177123\n",
      "Columns: 1131 entries, lot to like/dislike\n",
      "dtypes: float64(1129), int64(2)\n",
      "memory usage: 9.9 GB\n"
     ]
    }
   ],
   "source": [
    "bus_profiles_with_user.info()"
   ]
  },
  {
   "cell_type": "markdown",
   "metadata": {},
   "source": [
    "## Create the user profile vectors\n",
    "<p>The first step is to obtain the product between a user's like/dislike score and the associated (liked) businesses normalized attributes values.  These results will then be grouped by user id and summed.  Each row in the grouped data will represent a user profile vector that shows a user's taste based on the score obtained for each feature. Each score in this vector represents how much a user likes a feature, and will be used to retrieve relevant recommendations.</p>\n",
    "<p>The user profiles will act as the search query in the recommender system and will be compared against (weighted) business profiles.</p>"
   ]
  },
  {
   "cell_type": "markdown",
   "metadata": {},
   "source": [
    "#### Obtain the product of the user like/dislike score and each normalized business feature"
   ]
  },
  {
   "cell_type": "code",
   "execution_count": 8,
   "metadata": {},
   "outputs": [],
   "source": [
    "def user_like_products(df):\n",
    "    user_ids = df[\"user_id\"]\n",
    "    mod_df = df.drop([\"user_id\"], axis=1)\n",
    "    mod_df = mod_df.apply(lambda row: row[:-1] * row[-1],axis=1)\n",
    "    mod_df.insert(0,\"user_id\", user_ids)\n",
    "    user_ids = None\n",
    "    return mod_df\n",
    "\n",
    "user_scores = dd.from_pandas(bus_profiles_with_user, npartitions=npartitions)\\\n",
    "    .map_partitions(user_like_products)\n",
    "\n",
    "# Free up memory\n",
    "bus_profiles_with_user = None\n",
    "full_path = fp + \"/user_profile.gzip\"\n",
    "\n",
    "# Remove parquet file if it exists\n",
    "if os.path.exists(full_path):\n",
    "    os.remove(full_path)\n",
    "\n",
    "# Save output of calculation to disk to prevent any memory usage\n",
    "user_scores.compute(scheduler=\"processes\").to_parquet(full_path, compression=\"gzip\")\n",
    "\n",
    "user_scores = None"
   ]
  },
  {
   "cell_type": "markdown",
   "metadata": {},
   "source": [
    "#### Loop through data slices and perform the grouping and sum operations on the user profiles.\n",
    "<p>The resulting data will only have unique user id's and a total score for each feature obtained from the business profiles.</p>"
   ]
  },
  {
   "cell_type": "code",
   "execution_count": 9,
   "metadata": {},
   "outputs": [],
   "source": [
    "i = 0\n",
    "for i,v in enumerate(slices):\n",
    "    user_scores_df = pd.read_parquet(fp+\"/user_profile.gzip\", engine='pyarrow', columns=[\"user_id\"]+v)\n",
    "    user_scores_dd = dd.from_pandas(user_scores_df, npartitions = npartitions)\n",
    "    user_scores_df = None\n",
    "    # Remove parquet file if it exists\n",
    "    full_path = fp+\"/user_profile_grouped_\" + str(i) + \".gzip\"\n",
    "    \n",
    "    if os.path.exists(full_path):\n",
    "        os.remove(full_path)\n",
    "    \n",
    "    user_scores_dd.groupby(\"user_id\")\\\n",
    "        .sum()\\\n",
    "        .compute(scheduler=\"processes\")\\\n",
    "        .to_parquet(full_path, compression=\"gzip\")\n",
    "    user_scores_dd = None"
   ]
  },
  {
   "cell_type": "markdown",
   "metadata": {},
   "source": [
    "#### Combine sliced and grouped data to one dataframe and save to disk"
   ]
  },
  {
   "cell_type": "code",
   "execution_count": 10,
   "metadata": {},
   "outputs": [],
   "source": [
    "# Stores each user profile data slice (by column)\n",
    "user_profile_slices = []\n",
    "i = 0\n",
    "\n",
    "# Loop through each 'chunk', and append to user_profile_slices list\n",
    "while(i<cols_split_by):\n",
    "    df = pd.read_parquet(fp+\"/user_profile_grouped_\"+str(i)+\".gzip\")\n",
    "    user_profile_slices.append(df)\n",
    "    df = None\n",
    "    i += 1\n",
    "\n",
    "# Convert user_profile_slices to dataframe, which merges each chunk to one dataset (by index which is user_id)\n",
    "user_profile_df = pd.concat(user_profile_slices, axis=1)\n",
    "user_profile_df = user_profile_df.reset_index()\n",
    "\n",
    "user_profile_df.to_parquet(fp+\"/user_profile_grouped.gzip\")\n",
    "user_profile_df = None"
   ]
  },
  {
   "cell_type": "markdown",
   "metadata": {},
   "source": [
    "## Create a normalized and weighted version of the binary matrix for later use"
   ]
  },
  {
   "cell_type": "markdown",
   "metadata": {},
   "source": [
    "#### Apply normalization\n",
    "<p>The formula for normalization is: <b>x / sqrt(row_sum ^ 2)</b> where x=[0/1] and the row_sum=[total of all 1's for current row/user]. The square root of the row_sum represents the vector length.</p>\n",
    "\n",
    "<p>Normalization is performed on the binary <em>(1/0)</em> values by dividing each element with its vector length. This causes each user profile vector to have a length of 1 and is done before the IDF weights are applied.</p>"
   ]
  },
  {
   "cell_type": "code",
   "execution_count": 11,
   "metadata": {},
   "outputs": [],
   "source": [
    "def normalize_user_data(row):\n",
    "    num_vals = row.drop(\"user_id\")\n",
    "    \n",
    "    # Normalize values so the new vector length is 1\n",
    "    result = num_vals / np.sqrt(sum(num_vals**2))\n",
    "    \n",
    "    return row[[\"user_id\"]].append(result)\n",
    "\n",
    "user_profile_df = pd.read_parquet(fp+\"/user_profile_grouped.gzip\")\n",
    "#user_profile_df = user_profile_df.head(10).apply(normalize_user_data, axis=1)\n",
    "user_profile_dd = dd.from_pandas(user_profile_df, npartitions=npartitions)\\\n",
    "    .map_partitions(lambda df: df.apply(normalize_user_data, axis=1))\n",
    "\n",
    "user_profile_df = None\n",
    "\n",
    "user_profile_dd.compute(scheduler=\"processes\").to_parquet(fp+\"/user_profile_normalized.gzip\", compression=\"gzip\")\n",
    "\n",
    "user_profile_dd = None"
   ]
  },
  {
   "cell_type": "markdown",
   "metadata": {},
   "source": [
    "#### Weight user data\n",
    "<p>The normalized user vectors are multiplied with the IDF obtained from the business profile creation step.</p>"
   ]
  },
  {
   "cell_type": "code",
   "execution_count": 12,
   "metadata": {},
   "outputs": [],
   "source": [
    "DF_IDF = pd.read_parquet(fp+\"/business_profiles_DF_IDF.gzip\")\n",
    "\n",
    "def weight_user_data(row, idf=DF_IDF[\"IDF\"]):\n",
    "    num_vals = row.drop(\"user_id\")\n",
    "    \n",
    "    result = num_vals * idf\n",
    "    \n",
    "    return row[[\"user_id\"]].append(result)\n",
    "\n",
    "user_profile_df = pd.read_parquet(fp+\"/user_profile_normalized.gzip\")\n",
    "\n",
    "user_profile_dd = dd.from_pandas(user_profile_df, npartitions=npartitions)\\\n",
    "    .map_partitions(lambda df: df.apply(weight_user_data, axis=1))\n",
    "\n",
    "user_profile_df = None\n",
    "\n",
    "user_profile_dd.compute(scheduler=\"processes\").to_parquet(fp+\"/user_profile_weighted.gzip\", compression=\"gzip\")\n",
    "\n",
    "user_profile_dd = None"
   ]
  },
  {
   "cell_type": "markdown",
   "metadata": {},
   "source": [
    "#### Plot of top 10 attributes for a user"
   ]
  },
  {
   "cell_type": "code",
   "execution_count": 21,
   "metadata": {},
   "outputs": [
    {
     "data": {
      "text/plain": [
       "<matplotlib.axes._subplots.AxesSubplot at 0x1d2801a24e0>"
      ]
     },
     "execution_count": 21,
     "metadata": {},
     "output_type": "execute_result"
    },
    {
     "data": {
      "image/png": "[encoded data removed]",
      "text/plain": [
       "<Figure size 720x360 with 1 Axes>"
      ]
     },
     "metadata": {
      "needs_background": "light"
     },
     "output_type": "display_data"
    }
   ],
   "source": [
    "plt.rcParams['figure.figsize'] = [10, 5]\n",
    "user_id_num = pd.read_parquet(fp + \"/user_id_map.gzip\")\n",
    "which_rows = user_id_num[\"user_id\"] == \"Ksp1e9Dw0Jcog_ZBD3-45g\"\n",
    "user_id_num = user_id_num[which_rows]\n",
    "plot_data = pd.read_parquet(fp + \"/user_profile_weighted.gzip\")\n",
    "which_rows = plot_data[\"user_id\"] == user_id_num[\"index\"].values[0]\n",
    "plot_data = plot_data[which_rows].squeeze()\n",
    "plot_data = plot_data.drop(\"user_id\").sort_values(ascending=False).head(10)\n",
    "plot_data.plot.bar(x=plot_data.index, y=plot_data.values, rot=80)"
   ]
  },
  {
   "cell_type": "code",
   "execution_count": 22,
   "metadata": {},
   "outputs": [],
   "source": [
    "plot_data = None"
   ]
  }
 ],
 "metadata": {
  "kernelspec": {
   "display_name": "Python 3",
   "language": "python",
   "name": "python3"
  },
  "language_info": {
   "codemirror_mode": {
    "name": "ipython",
    "version": 3
   },
   "file_extension": ".py",
   "mimetype": "text/x-python",
   "name": "python",
   "nbconvert_exporter": "python",
   "pygments_lexer": "ipython3",
   "version": "3.6.9"
  }
 },
 "nbformat": 4,
 "nbformat_minor": 4
}
